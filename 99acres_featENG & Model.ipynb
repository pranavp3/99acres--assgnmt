{
 "cells": [
  {
   "cell_type": "code",
   "execution_count": 40,
   "id": "improving-lawsuit",
   "metadata": {},
   "outputs": [],
   "source": [
    "import pandas as pd\n",
    "import numpy as np\n",
    "import matplotlib.pyplot as plt"
   ]
  },
  {
   "cell_type": "markdown",
   "id": "sorted-schedule",
   "metadata": {},
   "source": [
    "### data Preprocessing"
   ]
  },
  {
   "cell_type": "code",
   "execution_count": 41,
   "id": "breeding-sound",
   "metadata": {},
   "outputs": [
    {
     "data": {
      "text/html": [
       "<div>\n",
       "<style scoped>\n",
       "    .dataframe tbody tr th:only-of-type {\n",
       "        vertical-align: middle;\n",
       "    }\n",
       "\n",
       "    .dataframe tbody tr th {\n",
       "        vertical-align: top;\n",
       "    }\n",
       "\n",
       "    .dataframe thead th {\n",
       "        text-align: right;\n",
       "    }\n",
       "</style>\n",
       "<table border=\"1\" class=\"dataframe\">\n",
       "  <thead>\n",
       "    <tr style=\"text-align: right;\">\n",
       "      <th></th>\n",
       "      <th>Specification</th>\n",
       "      <th>Project</th>\n",
       "      <th>Price</th>\n",
       "      <th>Area</th>\n",
       "    </tr>\n",
       "  </thead>\n",
       "  <tbody>\n",
       "    <tr>\n",
       "      <th>0</th>\n",
       "      <td>2 BHK Residential Apartment in Hinjewadi</td>\n",
       "      <td>Xrbia Hinjewadi</td>\n",
       "      <td>₹ 32 Lac₹ 7,692/sq.ft.</td>\n",
       "      <td>416 sq.ft. (39 sq.m.) Super built-up Area</td>\n",
       "    </tr>\n",
       "    <tr>\n",
       "      <th>1</th>\n",
       "      <td>2 BHK Residential Apartment in Hinjewadi</td>\n",
       "      <td>Xrbia Hinjewadi</td>\n",
       "      <td>₹ 31.5 Lac₹ 5,431/sq.ft.</td>\n",
       "      <td>580 sq.ft. (54 sq.m.) Built-up Area</td>\n",
       "    </tr>\n",
       "    <tr>\n",
       "      <th>2</th>\n",
       "      <td>3 BHK Residential Apartment in Hinjewadi Phase 2</td>\n",
       "      <td>TCG The Crown Greens</td>\n",
       "      <td>₹ 96 Lac₹ 5,714/sq.ft.</td>\n",
       "      <td>1,680 sq.ft. (156 sq.m.) Super built-up Area</td>\n",
       "    </tr>\n",
       "    <tr>\n",
       "      <th>3</th>\n",
       "      <td>1 BHK Residential Apartment in Hinjewadi</td>\n",
       "      <td>Paranjape Blue Ridge</td>\n",
       "      <td>₹ 55 Lac₹ 12,359/sq.ft.</td>\n",
       "      <td>445 sq.ft. (41 sq.m.) Super built-up Area</td>\n",
       "    </tr>\n",
       "    <tr>\n",
       "      <th>4</th>\n",
       "      <td>2 BHK Residential Apartment in Marunji</td>\n",
       "      <td>Hinjewadi Hills</td>\n",
       "      <td>₹ 29.99 Lac₹ 5,767/sq.ft.</td>\n",
       "      <td>520 sq.ft. (48 sq.m.) Built-up Area</td>\n",
       "    </tr>\n",
       "  </tbody>\n",
       "</table>\n",
       "</div>"
      ],
      "text/plain": [
       "                                      Specification               Project  \\\n",
       "0          2 BHK Residential Apartment in Hinjewadi       Xrbia Hinjewadi   \n",
       "1          2 BHK Residential Apartment in Hinjewadi       Xrbia Hinjewadi   \n",
       "2  3 BHK Residential Apartment in Hinjewadi Phase 2  TCG The Crown Greens   \n",
       "3          1 BHK Residential Apartment in Hinjewadi  Paranjape Blue Ridge   \n",
       "4            2 BHK Residential Apartment in Marunji       Hinjewadi Hills   \n",
       "\n",
       "                       Price                                          Area  \n",
       "0     ₹ 32 Lac₹ 7,692/sq.ft.     416 sq.ft. (39 sq.m.) Super built-up Area  \n",
       "1   ₹ 31.5 Lac₹ 5,431/sq.ft.           580 sq.ft. (54 sq.m.) Built-up Area  \n",
       "2     ₹ 96 Lac₹ 5,714/sq.ft.  1,680 sq.ft. (156 sq.m.) Super built-up Area  \n",
       "3    ₹ 55 Lac₹ 12,359/sq.ft.     445 sq.ft. (41 sq.m.) Super built-up Area  \n",
       "4  ₹ 29.99 Lac₹ 5,767/sq.ft.           520 sq.ft. (48 sq.m.) Built-up Area  "
      ]
     },
     "execution_count": 41,
     "metadata": {},
     "output_type": "execute_result"
    }
   ],
   "source": [
    "data= pd.read_csv(r'C:\\Users\\prana\\Desktop\\projects\\VSJ\\data\\real.csv')\n",
    "data.head()"
   ]
  },
  {
   "cell_type": "code",
   "execution_count": 42,
   "id": "bulgarian-destiny",
   "metadata": {},
   "outputs": [
    {
     "data": {
      "text/html": [
       "<div>\n",
       "<style scoped>\n",
       "    .dataframe tbody tr th:only-of-type {\n",
       "        vertical-align: middle;\n",
       "    }\n",
       "\n",
       "    .dataframe tbody tr th {\n",
       "        vertical-align: top;\n",
       "    }\n",
       "\n",
       "    .dataframe thead th {\n",
       "        text-align: right;\n",
       "    }\n",
       "</style>\n",
       "<table border=\"1\" class=\"dataframe\">\n",
       "  <thead>\n",
       "    <tr style=\"text-align: right;\">\n",
       "      <th></th>\n",
       "      <th>Specification</th>\n",
       "      <th>Project</th>\n",
       "      <th>Price</th>\n",
       "      <th>Area</th>\n",
       "    </tr>\n",
       "  </thead>\n",
       "  <tbody>\n",
       "    <tr>\n",
       "      <th>0</th>\n",
       "      <td>2 BHK Residential Apartment in Hinjewadi</td>\n",
       "      <td>Xrbia Hinjewadi</td>\n",
       "      <td>32</td>\n",
       "      <td>416 sq.ft. (39 sq.m.) Super built-up Area</td>\n",
       "    </tr>\n",
       "    <tr>\n",
       "      <th>1</th>\n",
       "      <td>2 BHK Residential Apartment in Hinjewadi</td>\n",
       "      <td>Xrbia Hinjewadi</td>\n",
       "      <td>31.5</td>\n",
       "      <td>580 sq.ft. (54 sq.m.) Built-up Area</td>\n",
       "    </tr>\n",
       "    <tr>\n",
       "      <th>2</th>\n",
       "      <td>3 BHK Residential Apartment in Hinjewadi Phase 2</td>\n",
       "      <td>TCG The Crown Greens</td>\n",
       "      <td>96</td>\n",
       "      <td>1,680 sq.ft. (156 sq.m.) Super built-up Area</td>\n",
       "    </tr>\n",
       "    <tr>\n",
       "      <th>3</th>\n",
       "      <td>1 BHK Residential Apartment in Hinjewadi</td>\n",
       "      <td>Paranjape Blue Ridge</td>\n",
       "      <td>55</td>\n",
       "      <td>445 sq.ft. (41 sq.m.) Super built-up Area</td>\n",
       "    </tr>\n",
       "    <tr>\n",
       "      <th>4</th>\n",
       "      <td>2 BHK Residential Apartment in Marunji</td>\n",
       "      <td>Hinjewadi Hills</td>\n",
       "      <td>29.99</td>\n",
       "      <td>520 sq.ft. (48 sq.m.) Built-up Area</td>\n",
       "    </tr>\n",
       "  </tbody>\n",
       "</table>\n",
       "</div>"
      ],
      "text/plain": [
       "                                      Specification               Project  \\\n",
       "0          2 BHK Residential Apartment in Hinjewadi       Xrbia Hinjewadi   \n",
       "1          2 BHK Residential Apartment in Hinjewadi       Xrbia Hinjewadi   \n",
       "2  3 BHK Residential Apartment in Hinjewadi Phase 2  TCG The Crown Greens   \n",
       "3          1 BHK Residential Apartment in Hinjewadi  Paranjape Blue Ridge   \n",
       "4            2 BHK Residential Apartment in Marunji       Hinjewadi Hills   \n",
       "\n",
       "   Price                                          Area  \n",
       "0     32     416 sq.ft. (39 sq.m.) Super built-up Area  \n",
       "1   31.5           580 sq.ft. (54 sq.m.) Built-up Area  \n",
       "2     96  1,680 sq.ft. (156 sq.m.) Super built-up Area  \n",
       "3     55     445 sq.ft. (41 sq.m.) Super built-up Area  \n",
       "4  29.99           520 sq.ft. (48 sq.m.) Built-up Area  "
      ]
     },
     "execution_count": 42,
     "metadata": {},
     "output_type": "execute_result"
    }
   ],
   "source": [
    "data.Price= data.Price.str.split(' ').str[1]        #splitting and attaching the data\n",
    "data.head()"
   ]
  },
  {
   "cell_type": "code",
   "execution_count": 43,
   "id": "opened-fever",
   "metadata": {},
   "outputs": [
    {
     "data": {
      "text/html": [
       "<div>\n",
       "<style scoped>\n",
       "    .dataframe tbody tr th:only-of-type {\n",
       "        vertical-align: middle;\n",
       "    }\n",
       "\n",
       "    .dataframe tbody tr th {\n",
       "        vertical-align: top;\n",
       "    }\n",
       "\n",
       "    .dataframe thead th {\n",
       "        text-align: right;\n",
       "    }\n",
       "</style>\n",
       "<table border=\"1\" class=\"dataframe\">\n",
       "  <thead>\n",
       "    <tr style=\"text-align: right;\">\n",
       "      <th></th>\n",
       "      <th>Specification</th>\n",
       "      <th>Project</th>\n",
       "      <th>Price</th>\n",
       "      <th>Area</th>\n",
       "    </tr>\n",
       "  </thead>\n",
       "  <tbody>\n",
       "    <tr>\n",
       "      <th>0</th>\n",
       "      <td>2 BHK Residential Apartment in Hinjewadi</td>\n",
       "      <td>Xrbia Hinjewadi</td>\n",
       "      <td>32</td>\n",
       "      <td>416</td>\n",
       "    </tr>\n",
       "    <tr>\n",
       "      <th>1</th>\n",
       "      <td>2 BHK Residential Apartment in Hinjewadi</td>\n",
       "      <td>Xrbia Hinjewadi</td>\n",
       "      <td>31.5</td>\n",
       "      <td>580</td>\n",
       "    </tr>\n",
       "    <tr>\n",
       "      <th>2</th>\n",
       "      <td>3 BHK Residential Apartment in Hinjewadi Phase 2</td>\n",
       "      <td>TCG The Crown Greens</td>\n",
       "      <td>96</td>\n",
       "      <td>1,680</td>\n",
       "    </tr>\n",
       "    <tr>\n",
       "      <th>3</th>\n",
       "      <td>1 BHK Residential Apartment in Hinjewadi</td>\n",
       "      <td>Paranjape Blue Ridge</td>\n",
       "      <td>55</td>\n",
       "      <td>445</td>\n",
       "    </tr>\n",
       "    <tr>\n",
       "      <th>4</th>\n",
       "      <td>2 BHK Residential Apartment in Marunji</td>\n",
       "      <td>Hinjewadi Hills</td>\n",
       "      <td>29.99</td>\n",
       "      <td>520</td>\n",
       "    </tr>\n",
       "  </tbody>\n",
       "</table>\n",
       "</div>"
      ],
      "text/plain": [
       "                                      Specification               Project  \\\n",
       "0          2 BHK Residential Apartment in Hinjewadi       Xrbia Hinjewadi   \n",
       "1          2 BHK Residential Apartment in Hinjewadi       Xrbia Hinjewadi   \n",
       "2  3 BHK Residential Apartment in Hinjewadi Phase 2  TCG The Crown Greens   \n",
       "3          1 BHK Residential Apartment in Hinjewadi  Paranjape Blue Ridge   \n",
       "4            2 BHK Residential Apartment in Marunji       Hinjewadi Hills   \n",
       "\n",
       "   Price   Area  \n",
       "0     32    416  \n",
       "1   31.5    580  \n",
       "2     96  1,680  \n",
       "3     55    445  \n",
       "4  29.99    520  "
      ]
     },
     "execution_count": 43,
     "metadata": {},
     "output_type": "execute_result"
    }
   ],
   "source": [
    "data.Area= data.Area.str.split(' ').str[0]\n",
    "data.head()"
   ]
  },
  {
   "cell_type": "code",
   "execution_count": 44,
   "id": "center-mother",
   "metadata": {},
   "outputs": [
    {
     "data": {
      "text/plain": [
       "Specification    object\n",
       "Project          object\n",
       "Price            object\n",
       "Area             object\n",
       "dtype: object"
      ]
     },
     "execution_count": 44,
     "metadata": {},
     "output_type": "execute_result"
    }
   ],
   "source": [
    "data.dtypes"
   ]
  },
  {
   "cell_type": "code",
   "execution_count": 45,
   "id": "legislative-hungarian",
   "metadata": {},
   "outputs": [],
   "source": [
    "data.Area=data.Area.str.replace(',','')     #replacing comma "
   ]
  },
  {
   "cell_type": "code",
   "execution_count": 46,
   "id": "sudden-absorption",
   "metadata": {},
   "outputs": [
    {
     "data": {
      "text/plain": [
       "0     416\n",
       "1     580\n",
       "2    1680\n",
       "3     445\n",
       "4     520\n",
       "Name: Area, dtype: object"
      ]
     },
     "execution_count": 46,
     "metadata": {},
     "output_type": "execute_result"
    }
   ],
   "source": [
    "data.Area.head(5)"
   ]
  },
  {
   "cell_type": "code",
   "execution_count": 108,
   "id": "concerned-mauritius",
   "metadata": {},
   "outputs": [
    {
     "data": {
      "text/plain": [
       "Specification    float64\n",
       "Project          float64\n",
       "Area             float64\n",
       "Price            float64\n",
       "dtype: object"
      ]
     },
     "execution_count": 108,
     "metadata": {},
     "output_type": "execute_result"
    }
   ],
   "source": [
    "data[['Price','Area','Specification','Project']]= data[['Price','Area','Specification','Project']].astype(float)    #changing the datatypes\n",
    "data.dtypes"
   ]
  },
  {
   "cell_type": "code",
   "execution_count": 109,
   "id": "civil-crowd",
   "metadata": {},
   "outputs": [
    {
     "data": {
      "text/html": [
       "<div>\n",
       "<style scoped>\n",
       "    .dataframe tbody tr th:only-of-type {\n",
       "        vertical-align: middle;\n",
       "    }\n",
       "\n",
       "    .dataframe tbody tr th {\n",
       "        vertical-align: top;\n",
       "    }\n",
       "\n",
       "    .dataframe thead th {\n",
       "        text-align: right;\n",
       "    }\n",
       "</style>\n",
       "<table border=\"1\" class=\"dataframe\">\n",
       "  <thead>\n",
       "    <tr style=\"text-align: right;\">\n",
       "      <th></th>\n",
       "      <th>Specification</th>\n",
       "      <th>Project</th>\n",
       "      <th>Area</th>\n",
       "      <th>Price</th>\n",
       "    </tr>\n",
       "  </thead>\n",
       "  <tbody>\n",
       "    <tr>\n",
       "      <th>0</th>\n",
       "      <td>5</td>\n",
       "      <td>15</td>\n",
       "      <td>0.085384</td>\n",
       "      <td>0.326316</td>\n",
       "    </tr>\n",
       "    <tr>\n",
       "      <th>1</th>\n",
       "      <td>5</td>\n",
       "      <td>15</td>\n",
       "      <td>0.204052</td>\n",
       "      <td>0.321053</td>\n",
       "    </tr>\n",
       "    <tr>\n",
       "      <th>2</th>\n",
       "      <td>8</td>\n",
       "      <td>10</td>\n",
       "      <td>1.000000</td>\n",
       "      <td>1.000000</td>\n",
       "    </tr>\n",
       "    <tr>\n",
       "      <th>3</th>\n",
       "      <td>2</td>\n",
       "      <td>6</td>\n",
       "      <td>0.106368</td>\n",
       "      <td>0.568421</td>\n",
       "    </tr>\n",
       "    <tr>\n",
       "      <th>4</th>\n",
       "      <td>6</td>\n",
       "      <td>2</td>\n",
       "      <td>0.160637</td>\n",
       "      <td>0.305158</td>\n",
       "    </tr>\n",
       "  </tbody>\n",
       "</table>\n",
       "</div>"
      ],
      "text/plain": [
       "   Specification  Project      Area     Price\n",
       "0              5       15  0.085384  0.326316\n",
       "1              5       15  0.204052  0.321053\n",
       "2              8       10  1.000000  1.000000\n",
       "3              2        6  0.106368  0.568421\n",
       "4              6        2  0.160637  0.305158"
      ]
     },
     "execution_count": 109,
     "metadata": {},
     "output_type": "execute_result"
    }
   ],
   "source": [
    "from sklearn.preprocessing import LabelEncoder\n",
    "LE= LabelEncoder()                                              # applying label encoder for converting data as categorical numerical data\n",
    "data.Specification= LE.fit_transform(data.Specification)\n",
    "data.Project=LE.fit_transform(data.Project)\n",
    "data.head()"
   ]
  },
  {
   "cell_type": "code",
   "execution_count": 110,
   "id": "starting-sheriff",
   "metadata": {},
   "outputs": [
    {
     "name": "stderr",
     "output_type": "stream",
     "text": [
      "C:\\Users\\prana\\anaconda3\\lib\\site-packages\\mlxtend\\preprocessing\\scaling.py:40: FutureWarning: Support for multi-dimensional indexing (e.g. `obj[:, None]`) is deprecated and will be removed in a future version.  Convert to a numpy array before indexing instead.\n",
      "  ary_new = ary_new[:, np.newaxis]\n"
     ]
    }
   ],
   "source": [
    "from mlxtend.preprocessing import minmax_scaling\n",
    "Area= minmax_scaling(data.Area, columns=[0])                   # applying scaling for data homoginity on continous variables\n",
    "Price= minmax_scaling(data.Price, columns=[0])"
   ]
  },
  {
   "cell_type": "code",
   "execution_count": 111,
   "id": "collaborative-running",
   "metadata": {},
   "outputs": [],
   "source": [
    "data= data.drop(['Price','Area'],axis=1)"
   ]
  },
  {
   "cell_type": "code",
   "execution_count": 112,
   "id": "interim-village",
   "metadata": {
    "scrolled": false
   },
   "outputs": [
    {
     "data": {
      "text/html": [
       "<div>\n",
       "<style scoped>\n",
       "    .dataframe tbody tr th:only-of-type {\n",
       "        vertical-align: middle;\n",
       "    }\n",
       "\n",
       "    .dataframe tbody tr th {\n",
       "        vertical-align: top;\n",
       "    }\n",
       "\n",
       "    .dataframe thead th {\n",
       "        text-align: right;\n",
       "    }\n",
       "</style>\n",
       "<table border=\"1\" class=\"dataframe\">\n",
       "  <thead>\n",
       "    <tr style=\"text-align: right;\">\n",
       "      <th></th>\n",
       "      <th>Specification</th>\n",
       "      <th>Project</th>\n",
       "      <th>Area</th>\n",
       "      <th>Price</th>\n",
       "    </tr>\n",
       "  </thead>\n",
       "  <tbody>\n",
       "    <tr>\n",
       "      <th>0</th>\n",
       "      <td>5</td>\n",
       "      <td>15</td>\n",
       "      <td>0.085384</td>\n",
       "      <td>0.326316</td>\n",
       "    </tr>\n",
       "    <tr>\n",
       "      <th>1</th>\n",
       "      <td>5</td>\n",
       "      <td>15</td>\n",
       "      <td>0.204052</td>\n",
       "      <td>0.321053</td>\n",
       "    </tr>\n",
       "    <tr>\n",
       "      <th>2</th>\n",
       "      <td>8</td>\n",
       "      <td>10</td>\n",
       "      <td>1.000000</td>\n",
       "      <td>1.000000</td>\n",
       "    </tr>\n",
       "    <tr>\n",
       "      <th>3</th>\n",
       "      <td>2</td>\n",
       "      <td>6</td>\n",
       "      <td>0.106368</td>\n",
       "      <td>0.568421</td>\n",
       "    </tr>\n",
       "    <tr>\n",
       "      <th>4</th>\n",
       "      <td>6</td>\n",
       "      <td>2</td>\n",
       "      <td>0.160637</td>\n",
       "      <td>0.305158</td>\n",
       "    </tr>\n",
       "  </tbody>\n",
       "</table>\n",
       "</div>"
      ],
      "text/plain": [
       "   Specification  Project      Area     Price\n",
       "0              5       15  0.085384  0.326316\n",
       "1              5       15  0.204052  0.321053\n",
       "2              8       10  1.000000  1.000000\n",
       "3              2        6  0.106368  0.568421\n",
       "4              6        2  0.160637  0.305158"
      ]
     },
     "execution_count": 112,
     "metadata": {},
     "output_type": "execute_result"
    }
   ],
   "source": [
    "data['Area']= Area\n",
    "data['Price']= Price\n",
    "data.head()"
   ]
  },
  {
   "cell_type": "markdown",
   "id": "continuing-costa",
   "metadata": {},
   "source": [
    "### Model building"
   ]
  },
  {
   "cell_type": "code",
   "execution_count": 113,
   "id": "handed-drink",
   "metadata": {},
   "outputs": [],
   "source": [
    "from sklearn.linear_model import LinearRegression\n",
    "LR= LinearRegression()"
   ]
  },
  {
   "cell_type": "code",
   "execution_count": 114,
   "id": "civic-world",
   "metadata": {},
   "outputs": [
    {
     "name": "stdout",
     "output_type": "stream",
     "text": [
      "(624, 3)\n",
      "(624,)\n"
     ]
    }
   ],
   "source": [
    "X= data.drop('Price',axis=1)\n",
    "y= data.Price\n",
    "print(X.shape)\n",
    "print(y.shape)"
   ]
  },
  {
   "cell_type": "code",
   "execution_count": 118,
   "id": "enclosed-madonna",
   "metadata": {
    "scrolled": true
   },
   "outputs": [
    {
     "data": {
      "text/plain": [
       "<seaborn.axisgrid.PairGrid at 0x2be1aad8670>"
      ]
     },
     "execution_count": 118,
     "metadata": {},
     "output_type": "execute_result"
    },
    {
     "data": {
      "image/png": "[encoded data removed]",
      "text/plain": [
       "<Figure size 720x720 with 20 Axes>"
      ]
     },
     "metadata": {
      "needs_background": "light"
     },
     "output_type": "display_data"
    }
   ],
   "source": [
    "import seaborn as sns                    # for Exploratory analysis on data to find out relations\n",
    "sns.pairplot(data)"
   ]
  },
  {
   "cell_type": "code",
   "execution_count": 115,
   "id": "unlimited-insertion",
   "metadata": {},
   "outputs": [],
   "source": [
    "from sklearn.model_selection import train_test_split                                             # splitting the data for testing and training purpose\n",
    "x_train, x_test, y_train, y_test = train_test_split(X, y, test_size=0.20, random_state=42)"
   ]
  },
  {
   "cell_type": "code",
   "execution_count": 116,
   "id": "instructional-truth",
   "metadata": {
    "scrolled": true
   },
   "outputs": [
    {
     "data": {
      "text/plain": [
       "LinearRegression()"
      ]
     },
     "execution_count": 116,
     "metadata": {},
     "output_type": "execute_result"
    }
   ],
   "source": [
    "LR.fit(x_train,y_train)"
   ]
  },
  {
   "cell_type": "code",
   "execution_count": null,
   "id": "bored-nylon",
   "metadata": {},
   "outputs": [],
   "source": [
    "#### Applying Lasso and Ridge as hyper parameter in LR"
   ]
  },
  {
   "cell_type": "code",
   "execution_count": 119,
   "id": "intermediate-provider",
   "metadata": {},
   "outputs": [],
   "source": [
    "from sklearn.linear_model import Lasso\n",
    "lasso= Lasso(alpha=0.0005)"
   ]
  },
  {
   "cell_type": "code",
   "execution_count": 120,
   "id": "simplified-recipient",
   "metadata": {},
   "outputs": [
    {
     "data": {
      "text/plain": [
       "Lasso(alpha=0.0005)"
      ]
     },
     "execution_count": 120,
     "metadata": {},
     "output_type": "execute_result"
    }
   ],
   "source": [
    "lasso.fit(x_train,y_train)"
   ]
  },
  {
   "cell_type": "code",
   "execution_count": 121,
   "id": "tracked-reply",
   "metadata": {},
   "outputs": [
    {
     "data": {
      "text/plain": [
       "0.29728462957413726"
      ]
     },
     "execution_count": 121,
     "metadata": {},
     "output_type": "execute_result"
    }
   ],
   "source": [
    "lasso.score(x_test,y_test)"
   ]
  },
  {
   "cell_type": "code",
   "execution_count": 122,
   "id": "psychological-cache",
   "metadata": {},
   "outputs": [],
   "source": [
    "from sklearn.linear_model import Ridge\n",
    "ridge= Ridge()"
   ]
  },
  {
   "cell_type": "code",
   "execution_count": 123,
   "id": "moved-compiler",
   "metadata": {},
   "outputs": [
    {
     "data": {
      "text/plain": [
       "Ridge()"
      ]
     },
     "execution_count": 123,
     "metadata": {},
     "output_type": "execute_result"
    }
   ],
   "source": [
    "ridge.fit(x_train,y_train)"
   ]
  },
  {
   "cell_type": "code",
   "execution_count": 124,
   "id": "bound-anger",
   "metadata": {},
   "outputs": [
    {
     "data": {
      "text/plain": [
       "0.295397407718736"
      ]
     },
     "execution_count": 124,
     "metadata": {},
     "output_type": "execute_result"
    }
   ],
   "source": [
    "ridge.score(x_test,y_test)"
   ]
  },
  {
   "cell_type": "code",
   "execution_count": null,
   "id": "statewide-senegal",
   "metadata": {},
   "outputs": [],
   "source": []
  }
 ],
 "metadata": {
  "kernelspec": {
   "display_name": "Python 3",
   "language": "python",
   "name": "python3"
  },
  "language_info": {
   "codemirror_mode": {
    "name": "ipython",
    "version": 3
   },
   "file_extension": ".py",
   "mimetype": "text/x-python",
   "name": "python",
   "nbconvert_exporter": "python",
   "pygments_lexer": "ipython3",
   "version": "3.8.3"
  }
 },
 "nbformat": 4,
 "nbformat_minor": 5
}
