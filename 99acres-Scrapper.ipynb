{
 "cells": [
  {
   "cell_type": "code",
   "execution_count": 1,
   "id": "streaming-skill",
   "metadata": {},
   "outputs": [],
   "source": [
    "import os\n",
    "import requests\n",
    "import sys"
   ]
  },
  {
   "cell_type": "code",
   "execution_count": 117,
   "id": "elder-hunter",
   "metadata": {},
   "outputs": [],
   "source": [
    "for i in range(1,25):\n",
    "    url='https://www.99acres.com/property-in-hinjewadi-pune-ffid-page-{}.html'.format(i)\n",
    "    texts= requests.get(url)\n",
    "    text_utf=texts.text.encode('utf=8')\n",
    "    \n",
    "    with open(r'C:\\Users\\prana\\Desktop\\projects\\VSJ\\data\\html\\{}.html'.format(i),'wb') as output:\n",
    "        output.write(text_utf)\n",
    "        \n",
    "    sys.stdout.flush()    "
   ]
  },
  {
   "cell_type": "code",
   "execution_count": 118,
   "id": "chronic-momentum",
   "metadata": {},
   "outputs": [],
   "source": [
    "import pandas as pd\n",
    "import csv\n",
    "from bs4 import BeautifulSoup"
   ]
  },
  {
   "cell_type": "code",
   "execution_count": 119,
   "id": "impaired-bearing",
   "metadata": {},
   "outputs": [],
   "source": [
    "\n",
    "def met_data(page):\n",
    "    file_html= open(r'C:\\Users\\prana\\Desktop\\projects\\VSJ\\data\\html\\{}.html'.format(page),'rb')\n",
    "    plain_text= file_html.read()\n",
    "    \n",
    "    temp=[]\n",
    "    finalD=[]\n",
    "    soup= BeautifulSoup(plain_text,'lxml')\n",
    "    \n",
    "    for table in soup.findAll('table', {'class': 'srpTuple__tupleTable'}):\n",
    "        for tbody in table:\n",
    "            for tr in tbody:\n",
    "                 \n",
    "             \n",
    "    rows= len(temp)/7\n",
    "    for times in range(round(rows)):\n",
    "        newtemp = []\n",
    "        for i in range(7):\n",
    "            newtemp.append(temp[0])\n",
    "            temp.pop(0)\n",
    "        finalD.append(newtemp)\n",
    "        \n",
    "    for a in range(len(finalD)):\n",
    "        finalD[a].pop(4)\n",
    "        finalD[a].pop(5)\n",
    "    for a in range(len(finalD)):\n",
    "        finalD[a].pop(4)\n",
    "        \n",
    "        \n",
    "    return finalD               "
   ]
  },
  {
   "cell_type": "code",
   "execution_count": 112,
   "id": "refined-ireland",
   "metadata": {},
   "outputs": [],
   "source": [
    "d_raw=[]\n",
    "for page in range(1,25):\n",
    "    df_page= met_data(page)\n",
    "    d_raw+=df_date\n",
    "    "
   ]
  },
  {
   "cell_type": "code",
   "execution_count": 113,
   "id": "distributed-output",
   "metadata": {},
   "outputs": [],
   "source": [
    "with open(r'C:\\Users\\prana\\Desktop\\projects\\VSJ\\data\\real.csv','w', encoding=\"utf-8\") as csvfile:\n",
    "    wr= csv.writer(csvfile, dialect='excel')\n",
    "    wr.writerow(['Specification', 'Project', 'Price', 'Area'])\n",
    "    wr.writerows(d_raw)"
   ]
  },
  {
   "cell_type": "code",
   "execution_count": 114,
   "id": "spiritual-crisis",
   "metadata": {},
   "outputs": [
    {
     "data": {
      "text/html": [
       "<div>\n",
       "<style scoped>\n",
       "    .dataframe tbody tr th:only-of-type {\n",
       "        vertical-align: middle;\n",
       "    }\n",
       "\n",
       "    .dataframe tbody tr th {\n",
       "        vertical-align: top;\n",
       "    }\n",
       "\n",
       "    .dataframe thead th {\n",
       "        text-align: right;\n",
       "    }\n",
       "</style>\n",
       "<table border=\"1\" class=\"dataframe\">\n",
       "  <thead>\n",
       "    <tr style=\"text-align: right;\">\n",
       "      <th></th>\n",
       "      <th>Specification</th>\n",
       "      <th>Project</th>\n",
       "      <th>Price</th>\n",
       "      <th>Area</th>\n",
       "    </tr>\n",
       "  </thead>\n",
       "  <tbody>\n",
       "    <tr>\n",
       "      <th>0</th>\n",
       "      <td>2 BHK Residential Apartment in Hinjewadi</td>\n",
       "      <td>Xrbia Hinjewadi</td>\n",
       "      <td>₹ 32 Lac₹ 7,692/sq.ft.</td>\n",
       "      <td>416 sq.ft. (39 sq.m.) Super built-up Area</td>\n",
       "    </tr>\n",
       "    <tr>\n",
       "      <th>1</th>\n",
       "      <td>2 BHK Residential Apartment in Hinjewadi</td>\n",
       "      <td>Xrbia Hinjewadi</td>\n",
       "      <td>₹ 31.5 Lac₹ 5,431/sq.ft.</td>\n",
       "      <td>580 sq.ft. (54 sq.m.) Built-up Area</td>\n",
       "    </tr>\n",
       "    <tr>\n",
       "      <th>2</th>\n",
       "      <td>3 BHK Residential Apartment in Hinjewadi Phase 2</td>\n",
       "      <td>TCG The Crown Greens</td>\n",
       "      <td>₹ 96 Lac₹ 5,714/sq.ft.</td>\n",
       "      <td>1,680 sq.ft. (156 sq.m.) Super built-up Area</td>\n",
       "    </tr>\n",
       "    <tr>\n",
       "      <th>3</th>\n",
       "      <td>1 BHK Residential Apartment in Hinjewadi</td>\n",
       "      <td>Paranjape Blue Ridge</td>\n",
       "      <td>₹ 55 Lac₹ 12,359/sq.ft.</td>\n",
       "      <td>445 sq.ft. (41 sq.m.) Super built-up Area</td>\n",
       "    </tr>\n",
       "    <tr>\n",
       "      <th>4</th>\n",
       "      <td>2 BHK Residential Apartment in Marunji</td>\n",
       "      <td>Hinjewadi Hills</td>\n",
       "      <td>₹ 29.99 Lac₹ 5,767/sq.ft.</td>\n",
       "      <td>520 sq.ft. (48 sq.m.) Built-up Area</td>\n",
       "    </tr>\n",
       "  </tbody>\n",
       "</table>\n",
       "</div>"
      ],
      "text/plain": [
       "                                      Specification               Project  \\\n",
       "0          2 BHK Residential Apartment in Hinjewadi       Xrbia Hinjewadi   \n",
       "1          2 BHK Residential Apartment in Hinjewadi       Xrbia Hinjewadi   \n",
       "2  3 BHK Residential Apartment in Hinjewadi Phase 2  TCG The Crown Greens   \n",
       "3          1 BHK Residential Apartment in Hinjewadi  Paranjape Blue Ridge   \n",
       "4            2 BHK Residential Apartment in Marunji       Hinjewadi Hills   \n",
       "\n",
       "                       Price                                          Area  \n",
       "0     ₹ 32 Lac₹ 7,692/sq.ft.     416 sq.ft. (39 sq.m.) Super built-up Area  \n",
       "1   ₹ 31.5 Lac₹ 5,431/sq.ft.           580 sq.ft. (54 sq.m.) Built-up Area  \n",
       "2     ₹ 96 Lac₹ 5,714/sq.ft.  1,680 sq.ft. (156 sq.m.) Super built-up Area  \n",
       "3    ₹ 55 Lac₹ 12,359/sq.ft.     445 sq.ft. (41 sq.m.) Super built-up Area  \n",
       "4  ₹ 29.99 Lac₹ 5,767/sq.ft.           520 sq.ft. (48 sq.m.) Built-up Area  "
      ]
     },
     "execution_count": 114,
     "metadata": {},
     "output_type": "execute_result"
    }
   ],
   "source": [
    "data= pd.read_csv(r'C:\\Users\\prana\\Desktop\\projects\\VSJ\\data\\real.csv')\n",
    "data.head()"
   ]
  },
  {
   "cell_type": "code",
   "execution_count": 115,
   "id": "industrial-february",
   "metadata": {},
   "outputs": [
    {
     "data": {
      "text/plain": [
       "array(['2 BHK Residential Apartment in Hinjewadi',\n",
       "       '3 BHK Residential Apartment in Hinjewadi Phase 2',\n",
       "       '1 BHK Residential Apartment in Hinjewadi',\n",
       "       '2 BHK Residential Apartment in Marunji',\n",
       "       '(1 RK) Studio Apartment in Hinjewadi',\n",
       "       '3 BHK Residential Apartment in Marunji',\n",
       "       '1 BHK Residential Apartment in Marunji',\n",
       "       '2 BHK Independent Builder Floor in Hinjewadi',\n",
       "       '1 BHK Independent Builder Floor in Hinjewadi',\n",
       "       '3 BHK Residential Apartment in Hinjewadi'], dtype=object)"
      ]
     },
     "execution_count": 115,
     "metadata": {},
     "output_type": "execute_result"
    }
   ],
   "source": [
    "data.Specification.unique()"
   ]
  },
  {
   "cell_type": "code",
   "execution_count": 116,
   "id": "liked-discipline",
   "metadata": {},
   "outputs": [
    {
     "data": {
      "text/plain": [
       "array(['Xrbia Hinjewadi', 'TCG The Crown Greens', 'Paranjape Blue Ridge',\n",
       "       'Hinjewadi Hills', 'XION ATHASHRI', 'Shapoorji Joyville',\n",
       "       'shishir chs', 'xrbia', 'MP Residency', 'Highpoint ITrend Homes',\n",
       "       'SMP Destination Hinjawadi', 'Rama Air Castles',\n",
       "       'Kolte Patil Life Republic', 'Kolte Patil', 'Xrbia Township',\n",
       "       'Xrbia City', 'Vijay Sketch Book', 'Vasant Utsav', 'Geras Adara'],\n",
       "      dtype=object)"
      ]
     },
     "execution_count": 116,
     "metadata": {},
     "output_type": "execute_result"
    }
   ],
   "source": [
    "data.Project.unique()"
   ]
  },
  {
   "cell_type": "code",
   "execution_count": null,
   "id": "micro-breed",
   "metadata": {},
   "outputs": [],
   "source": []
  }
 ],
 "metadata": {
  "kernelspec": {
   "display_name": "Python 3",
   "language": "python",
   "name": "python3"
  },
  "language_info": {
   "codemirror_mode": {
    "name": "ipython",
    "version": 3
   },
   "file_extension": ".py",
   "mimetype": "text/x-python",
   "name": "python",
   "nbconvert_exporter": "python",
   "pygments_lexer": "ipython3",
   "version": "3.8.3"
  }
 },
 "nbformat": 4,
 "nbformat_minor": 5
}
